{
 "cells": [
  {
   "cell_type": "code",
   "execution_count": 1,
   "id": "46d1c151",
   "metadata": {},
   "outputs": [],
   "source": [
    "from transformers import DistilBertTokenizer, TFDistilBertModel\n",
    "import tensorflow as tf\n",
    "from multiprocessing import cpu_count, Pool\n",
    "\n",
    "def tokenize_single(text):\n",
    "    tokenizer = DistilBertTokenizer.from_pretrained('distilbert-base-uncased')\n",
    "    tokens = tokenizer(text, padding=True, truncation=True, return_tensors=\"tf\", max_length=512)\n",
    "    return tokens\n",
    "\n",
    "def tokenize_list(text_list):\n",
    "    with Pool(cpu_count()) as pool:\n",
    "        tokenized_list = pool.map(tokenize_single, text_list)\n",
    "    return tokenized_list\n",
    "\n",
    "def create_text_model():\n",
    "    distilBERT = TFDistilBertModel.from_pretrained('distilbert-base-uncased')\n",
    "    input_ids = tf.keras.layers.Input(shape=(512,), name='input_ids', dtype='int32')\n",
    "    mask = tf.keras.layers.Input(shape=(512,), name='attention_mask', dtype='int32')\n",
    "    \n",
    "    embeddings = distilBERT(input_ids, attention_mask=mask)[0]\n",
    "    text_out = tf.keras.layers.GlobalMaxPool1D()(embeddings)\n",
    "    text_model = tf.keras.Model(inputs=[input_ids, mask], outputs=text_out)\n",
    "    \n",
    "    return text_model\n"
   ]
  },
  {
   "cell_type": "code",
   "execution_count": null,
   "id": "c378244b",
   "metadata": {},
   "outputs": [],
   "source": []
  }
 ],
 "metadata": {
  "kernelspec": {
   "display_name": "Python 3.10 (tensorflow)",
   "language": "python",
   "name": "tensorflow"
  },
  "language_info": {
   "codemirror_mode": {
    "name": "ipython",
    "version": 3
   },
   "file_extension": ".py",
   "mimetype": "text/x-python",
   "name": "python",
   "nbconvert_exporter": "python",
   "pygments_lexer": "ipython3",
   "version": "3.10.11"
  }
 },
 "nbformat": 4,
 "nbformat_minor": 5
}
